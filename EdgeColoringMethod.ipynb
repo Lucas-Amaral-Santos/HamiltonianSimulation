{
 "cells": [
  {
   "cell_type": "markdown",
   "id": "644ca45a-6671-49a0-8105-d4873095f8ca",
   "metadata": {},
   "source": [
    "# SIMULAÇÃO HAMILTONIANA"
   ]
  },
  {
   "cell_type": "markdown",
   "id": "fb7594e2-4d29-4dbb-97de-1790cd8636e0",
   "metadata": {},
   "source": [
    "Aqui vamos tentar aplicar um método de **simulação hamiltoniana ATS**, apresentada por Aharonov and Ta-Shma.\n",
    "Nessa formulação, o hamiltoniano é dada como uma matriz esparsa. \n",
    "* **Método de Lloyd**\n",
    "\n",
    "Primeiramente, consideramos o **método do Lloyd**. Um sistema quântico é composto por $N$ subsistemas e representamos o Hamiltoniano total como uma soma destes subsistemas:\n",
    "$$\n",
    "H = \\sum^{m}_{j=1}H_j\n",
    "$$\n",
    "Cada termo $H_j$ age em um subsistema com dimensão de, no máximo, $d_j$. Com isso, o número de operações requeridas para a simulação hamiltoniano sobre $H_j$ escala em $d_j^2$. Uma aproximação usada por Lloyd é:\n",
    "\n",
    "$$\n",
    "e^{iHt} \\approx (e^{iH_1t/r}\\dots e^{iHmt/r})^r\n",
    "$$\n",
    "Como o numero de operações requeridos para simular cada Hamiltoniano $H_j$ escala em $d_j^2$, o número total de passos é $r\\sum^{m}_{j=1}d_j^2 \\leq \n",
    "    rmd^2$, o qual $d$ é $\\max{d_j}$.\n",
    "\n",
    "* **Método ATS**\n",
    "\n",
    "No método ATS é considerada a simulação de um hamiltoniano arbitrário representado por uma matrix esparsa, isto é, com apenas um moderado número de elementos não-zerados. Podemos afirmar que os Hamiltonianos considerados por Lloyd podem ser representados por matrizes esparsas pois, como cada Hamiltoniano $H_j$ age em apenas $d_j$ dimensões, então a sua matriz representante não terá mais que $d_j$ elementos em cada linha. Dessa maneira, o Hamiltoniano completo não terá mais que $md$ elementos em cada linha. Como o número de elementos cresce polinomialmente com a quantidade de subsistemas e a matriz cresce exponencialmente, podemos afirmar que a matriz completa é esparsa.\n",
    "\n",
    "A grande diferença entre o problema considerado por Lloyd e pelo ATS é que, no problema do LLoyd, a decomposição do Hamiltoniano já é dada, enquanto no ATS, apenas assume-se que há um método de calcular os termos não-zeros das colunas do Hamiltoniano.\n",
    "\n",
    "No caso do Hamiltoniano H tiver, no máximo $D$ elementos não zeros em cada linha e agir em um sistema de até $2^n$ dimensões ($n$ qubits), ATS mostra um método de decompor H em uma soma de até $(D+1)^2n^6$ termos. Temos então:\n",
    "$$\n",
    "H = \\sum^{(D+1)^2n^6}_{j=1}H_j\n",
    "$$\n",
    "\n",
    "Cada $H_j$ é 1-esparsa, o que implica que cada $H_j$ é equivalente a uma matriz diagonal $2\\times2$.\n",
    "\n",
    "1) Decomposição do Hamiltoniano\n",
    "\n",
    "Para implementar a decomposição do hamiltoniano, o método é equivalente ao problema de coloração de um grafo não-direcionado. Os nós dos grafos correspondem aos estados base e as arestas correspondem aos elementos não-zeros do hamiltoniano. O problema é colorir o grafo de tal maneira que não haja 2 arestas com a mesma cor conectado ao mesmo grafo. No método ATS, a cor pode ser representada por um vetor:\n",
    "\n",
    "$$\n",
    "\\begin{split}\n",
    "\\vec{j} = (\\nu,x\\mod{\\nu}, y\\mod{\\nu}, \\text{rind}_H(x,y), \\text{cind}_H(x,y))\n",
    "\\end{split}\n",
    "$$\n",
    "por convenção $x\\leq y$.\n",
    "\n",
    "$\\nu$ é escolhido de maneira que:\n",
    "$$\n",
    "\\begin{split}\n",
    "\\nu = 1 \\text{ if } x = y \\\\\n",
    "\\nu = \\text{first $int$ in range } [2\\dots n^2] \\text{ s.t. } x \\neq \\mod{\\nu}\n",
    "\\end{split}\n",
    "$$\n",
    "\n",
    "Para conveniência, definimos uma função $f$ que retorna os elementos não-zeros de cada coluna. Se os elementos não-zeros na coluna $x$ são $y_1, \\dots, y_D'$, o qual $D' \\leq D$, então: \n",
    "$$\n",
    "\\begin{split}\n",
    "f(x,i) = (y_i, H_{x,y_i}) \\text{ for } i \\leq D'\\\\\n",
    "f(x,i) = (x,0) \\text{ for } i \\geq D'\n",
    "\\end{split}\n",
    "$$\n",
    "\n",
    "As definições de cind$_H$ e rind$_H$ são feita a partir de $f$. Se $H_{x,y} \\neq 0$, então:\n",
    "$$\n",
    "\\begin{split}\n",
    "f_y(y, \\text{cind}_H(x,y)) = x\\\\\n",
    "f_y(x, \\text{rind}_H(x,y)) = y\n",
    "\\end{split}\n",
    "$$\n",
    "\n",
    "Isto é, cind$_H$ retorna o índice da coluna de $x$ e rind$_H$ o índice da linha $y$."
   ]
  },
  {
   "cell_type": "markdown",
   "id": "1970e347-69dd-4323-8482-fc10e9a2cfc0",
   "metadata": {},
   "source": [
    "Importing libraries"
   ]
  },
  {
   "cell_type": "code",
   "execution_count": 15,
   "id": "24699ba2-7f17-4869-827b-641caba4c77e",
   "metadata": {},
   "outputs": [],
   "source": [
    "import numpy as np\n",
    "import networkx as nx\n",
    "import matplotlib.pyplot as plt\n",
    "from faker import Faker\n",
    "fake = Faker()"
   ]
  },
  {
   "cell_type": "markdown",
   "id": "d7a730d1-cb7c-4060-aebb-eeee5f5d4822",
   "metadata": {},
   "source": [
    "Definindo a matriz hermitiana."
   ]
  },
  {
   "cell_type": "code",
   "execution_count": 16,
   "id": "80a412c8-aef8-432a-8d33-c47da5f3096d",
   "metadata": {},
   "outputs": [
    {
     "data": {
      "text/plain": [
       "matrix([[0, 0, 0, 0, 2, 0, 0, 0],\n",
       "        [0, 0, 0, 0, 8, 5, 0, 6],\n",
       "        [0, 0, 0, 0, 0, 0, 7, 0],\n",
       "        [0, 0, 0, 0, 0, 5, 3, 4],\n",
       "        [2, 8, 0, 0, 0, 0, 0, 0],\n",
       "        [0, 5, 0, 5, 0, 0, 0, 0],\n",
       "        [0, 0, 7, 3, 0, 0, 0, 0],\n",
       "        [0, 6, 0, 4, 0, 0, 0, 0]])"
      ]
     },
     "execution_count": 16,
     "metadata": {},
     "output_type": "execute_result"
    }
   ],
   "source": [
    "A = np.matrix([[0, 0, 0, 0, 2, 0, 0, 0],\n",
    "               [0, 0, 0, 0, 8, 5, 0, 6], \n",
    "               [0, 0, 0, 0, 0, 0, 7, 0], \n",
    "               [0, 0, 0, 0, 0, 5, 3, 4],\n",
    "               [2, 8, 0, 0, 0, 0, 0, 0],\n",
    "               [0, 5, 0, 5, 0, 0, 0, 0],\n",
    "               [0, 0, 7, 3, 0, 0, 0, 0],\n",
    "               [0, 6, 0, 4, 0, 0, 0, 0],\n",
    "              ])\n",
    "A"
   ]
  },
  {
   "cell_type": "markdown",
   "id": "6b34b548",
   "metadata": {},
   "source": [
    "Toda matriz hermitiana pode ser representada como um grafo regular."
   ]
  },
  {
   "cell_type": "code",
   "execution_count": 17,
   "id": "71a37c2e-cd73-4de3-914a-fdb24020cd6a",
   "metadata": {},
   "outputs": [
    {
     "data": {
      "image/png": "[encoded data removed]",
      "text/plain": [
       "<Figure size 640x480 with 1 Axes>"
      ]
     },
     "metadata": {},
     "output_type": "display_data"
    }
   ],
   "source": [
    "# Drawing the graphs\n",
    "G = nx.from_numpy_array(A)\n",
    "nx.draw(G, with_labels=True, font_weight='bold')"
   ]
  },
  {
   "cell_type": "code",
   "execution_count": 18,
   "id": "dd5c9789-0633-4278-91a0-343588cc8035",
   "metadata": {},
   "outputs": [
    {
     "data": {
      "text/plain": [
       "{'0': [4],\n",
       " '1': [4, 5, 7],\n",
       " '2': [6],\n",
       " '3': [5, 6, 7],\n",
       " '4': [0, 1],\n",
       " '5': [1, 3],\n",
       " '6': [2, 3],\n",
       " '7': [1, 3]}"
      ]
     },
     "execution_count": 18,
     "metadata": {},
     "output_type": "execute_result"
    }
   ],
   "source": [
    "# Converting a adjadence matrix graph to a list graph  \n",
    "def matrix_to_list(A):\n",
    "    colors = {}\n",
    "    for i in range(len(A)):\n",
    "        colors[str(i)] = []\n",
    "        for j in range(len(A)):\n",
    "            if A[int(i),j] != 0:\n",
    "                colors[str(i)].append(j)\n",
    "    return colors\n",
    "A_list = matrix_to_list(A)\n",
    "A_list"
   ]
  },
  {
   "cell_type": "markdown",
   "id": "5cdfd98d",
   "metadata": {},
   "source": [
    "Vamos implementar a coloração de arestas de cordo com o método mencionado acima.\n",
    "\n",
    "$$\n",
    "\\begin{split}\n",
    "\\vec{j} = (\\nu,x\\mod{\\nu}, y\\mod{\\nu}, \\text{rind}_H(x,y), \\text{cind}_H(x,y))\n",
    "\\end{split}\n",
    "$$\n",
    "\n",
    "Primeiro identificamos um $$\\nu$$ o qual será igual a 1, se $i=j$, e igual ao primeiro inteiro de $[2\\dots n^2]$ tal que $x \\not\\equiv y \\mod \\nu$."
   ]
  },
  {
   "cell_type": "code",
   "execution_count": 95,
   "id": "c8bcd0af-8b98-4387-b5e6-b97aee4b6f19",
   "metadata": {},
   "outputs": [
    {
     "name": "stdout",
     "output_type": "stream",
     "text": [
      "3\n",
      "(0, 4)\n",
      "True\n",
      "(1, 4)\n",
      "True\n",
      "(1, 5)\n",
      "True\n",
      "(1, 7)\n",
      "True\n",
      "(2, 6)\n",
      "True\n",
      "(3, 5)\n",
      "True\n",
      "(3, 6)\n",
      "True\n",
      "(3, 7)\n",
      "True\n",
      "\n",
      "\n",
      "A coloração feita é \n"
     ]
    },
    {
     "data": {
      "text/plain": [
       "{(0, 4): (2, 0, 4, 1, 1),\n",
       " (1, 4): (2, 1, 4, 2, 1),\n",
       " (1, 5): (2, 1, 5, 1, 2),\n",
       " (1, 7): (2, 1, 7, 1, 3),\n",
       " (2, 6): (2, 2, 6, 1, 1),\n",
       " (3, 5): (2, 3, 5, 2, 1),\n",
       " (3, 6): (2, 3, 6, 2, 2),\n",
       " (3, 7): (2, 3, 7, 2, 3)}"
      ]
     },
     "execution_count": 95,
     "metadata": {},
     "output_type": "execute_result"
    }
   ],
   "source": [
    "def rind(i, j):\n",
    "    iter = 0\n",
    "    if not A[i,j]:\n",
    "        return 0\n",
    "    else:\n",
    "        for k in range(len(A)):\n",
    "            if A[k,j] and k<=i:\n",
    "                iter+=1\n",
    "        return iter\n",
    "\n",
    "\n",
    "def cind(i, j):\n",
    "    iter = 0\n",
    "    if not A[i,j]:\n",
    "        return 0\n",
    "    else:\n",
    "        for k in range(len(A)):\n",
    "            if A[i,k] and k<=j:\n",
    "                iter+=1\n",
    "        return iter\n",
    "\n",
    "\n",
    "def mod_incongruence(x,y,div):\n",
    "    if x % div != y:\n",
    "        return True\n",
    "    else:\n",
    "        return False\n",
    "    \n",
    "def assign_color(G):\n",
    "    color = {}\n",
    "    n = np.int8(np.log2(G.number_of_nodes()))\n",
    "    print(n)\n",
    "\n",
    "    for e in G.edges:\n",
    "        for div in range(2, n**2):\n",
    "            if(e[0] == e[1]):\n",
    "                color[e] = (1, e[0], e[1], 0, 0)                \n",
    "                print(color[e])\n",
    "                break\n",
    "            else:\n",
    "                print(e)\n",
    "                print(mod_incongruence(e[0], e[1], div))\n",
    "                if mod_incongruence(e[0], e[1], div):\n",
    "                    color[e] = (div, e[0], e[1], rind(e[0], e[1]), cind(e[0], e[1]))\n",
    "                    break\n",
    "    \n",
    "    return color\n",
    "\n",
    "coloracao = assign_color(G)\n",
    "print(\"\\n\\nA coloração feita é \")\n",
    "coloracao"
   ]
  },
  {
   "cell_type": "code",
   "execution_count": 151,
   "id": "b1dc9fdc-0042-4bc6-9d41-be64c5ae700c",
   "metadata": {},
   "outputs": [
    {
     "name": "stdout",
     "output_type": "stream",
     "text": [
      "[[0, 2], [2, 0]]\n",
      "==================================================================================\n",
      "[[0, 8], [8, 0]]\n",
      "==================================================================================\n",
      "[[0, 5], [5, 5]]\n",
      "==================================================================================\n",
      "[[0, 6], [6, 6]]\n",
      "==================================================================================\n",
      "[[0, 7], [7, 7]]\n",
      "==================================================================================\n",
      "[[0, 5], [5, 5]]\n",
      "==================================================================================\n",
      "[[0, 3], [3, 7]]\n",
      "==================================================================================\n",
      "[[0, 4], [4, 6]]\n",
      "==================================================================================\n"
     ]
    },
    {
     "data": {
      "text/plain": [
       "[]"
      ]
     },
     "execution_count": 151,
     "metadata": {},
     "output_type": "execute_result"
    }
   ],
   "source": [
    "# Criar matrizes 1x1 e 2x2 conforme ATS\n",
    "def build_matrices(coloracao):\n",
    "    matrices1 = []   # Matrices 1x1\n",
    "    matrices2 = []   # Matrices 2x2\n",
    "    for key in coloracao:\n",
    "        if key[0] == key[1]:\n",
    "            matrices1 = [[A[key[0],key[1]]]]\n",
    "            matrices1.append(new_matrix)\n",
    "        else:\n",
    "            new_matrix = [[ A[key[0], coloracao[key][2] % coloracao[key][0]], A[key[0], key[1]]], [A[key[1], key[0]], A[len(A) - key[1], key[1]]]]\n",
    "            matrices2.append(new_matrix)\n",
    "            \n",
    "            print(new_matrix)\n",
    "            print(\"==================================================================================\")\n",
    "    return matrices1, matrices2\n",
    "matrices1, matrices2 = checa_iguais(coloracao)\n",
    "matrices1"
   ]
  },
  {
   "cell_type": "code",
   "execution_count": 152,
   "id": "acb79f2e-180c-46b0-89f7-f2aaf428e02e",
   "metadata": {},
   "outputs": [
    {
     "data": {
      "text/plain": [
       "[[[0, 2], [2, 0]],\n",
       " [[0, 8], [8, 0]],\n",
       " [[0, 5], [5, 5]],\n",
       " [[0, 6], [6, 6]],\n",
       " [[0, 7], [7, 7]],\n",
       " [[0, 5], [5, 5]],\n",
       " [[0, 3], [3, 7]],\n",
       " [[0, 4], [4, 6]]]"
      ]
     },
     "execution_count": 152,
     "metadata": {},
     "output_type": "execute_result"
    }
   ],
   "source": [
    "matrices2 # Imprime as matrizes 2x2"
   ]
  },
  {
   "cell_type": "code",
   "execution_count": null,
   "id": "4f9ad911",
   "metadata": {},
   "outputs": [],
   "source": []
  }
 ],
 "metadata": {
  "kernelspec": {
   "display_name": "Python 3 (ipykernel)",
   "language": "python",
   "name": "python3"
  },
  "language_info": {
   "codemirror_mode": {
    "name": "ipython",
    "version": 3
   },
   "file_extension": ".py",
   "mimetype": "text/x-python",
   "name": "python",
   "nbconvert_exporter": "python",
   "pygments_lexer": "ipython3",
   "version": "3.8.0"
  }
 },
 "nbformat": 4,
 "nbformat_minor": 5
}
